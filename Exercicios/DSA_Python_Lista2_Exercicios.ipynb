{
  "cells": [
    {
      "cell_type": "markdown",
      "id": "61d979b2-a85f-4d69-901e-b3bb69419a3e",
      "metadata": {
        "id": "61d979b2-a85f-4d69-901e-b3bb69419a3e"
      },
      "source": [
        "<!-- Trabalho Desenvolvido na Data Science Academy - www.datascienceacademy.com.br -->\n",
        "# <font color='blue'>Data Science Academy</font>\n",
        "# <font color='blue'>Fundamentos de Linguagem Python - Do Básico a Aplicações de IA</font>\n",
        "# <font color='blue'>Lista 2 de Exercícios</font>"
      ]
    },
    {
      "cell_type": "markdown",
      "id": "3670be14-c985-465c-a68c-34b0e822b07a",
      "metadata": {
        "id": "3670be14-c985-465c-a68c-34b0e822b07a"
      },
      "source": [
        "#### Exercício 1\n",
        "\n",
        "Escreva uma função que receba os valores de três lados de um triângulo e o classifique como \"Equilátero\" (todos os lados iguais), \"Isósceles\" (dois lados iguais) ou \"Escaleno\" (todos os lados diferentes)."
      ]
    },
    {
      "cell_type": "code",
      "execution_count": 7,
      "id": "e05f9264-9103-4c43-9bbf-20334ead2de3",
      "metadata": {
        "colab": {
          "base_uri": "https://localhost:8080/",
          "height": 36
        },
        "id": "e05f9264-9103-4c43-9bbf-20334ead2de3",
        "outputId": "6731e66f-058c-4097-91eb-a7b5f5af5ca5"
      },
      "outputs": [
        {
          "output_type": "execute_result",
          "data": {
            "text/plain": [
              "'Escaleno'"
            ],
            "application/vnd.google.colaboratory.intrinsic+json": {
              "type": "string"
            }
          },
          "metadata": {},
          "execution_count": 7
        }
      ],
      "source": [
        "# Solução\n",
        "def classificação_triangulo(lado1,lado2,lado3):\n",
        "    if (lado1 + lado2 > lado3) and (lado1 + lado3 > lado2) and (lado3 + lado2 >lado1):\n",
        "        if lado1 == lado2 == lado3:\n",
        "            return (\"Equilatero\")\n",
        "\n",
        "        elif lado1 == lado2 and lado2 == lado3:\n",
        "            return (\"Isósteles\")\n",
        "\n",
        "        else:\n",
        "            return (\"Escaleno\")\n",
        "\n",
        "    else:\n",
        "        return (\"Esse objeto, não é um triângulo\")\n",
        "\n",
        "classificação_triangulo(5,2,6)"
      ]
    },
    {
      "cell_type": "markdown",
      "id": "c740abbd-3a0e-4f9f-9a26-a3e382b078f5",
      "metadata": {
        "id": "c740abbd-3a0e-4f9f-9a26-a3e382b078f5"
      },
      "source": [
        "#### Exercício 2\n",
        "\n",
        "Escreva uma função que recebe um número inteiro e exibe a tabuada de multiplicação desse número, do 1 ao 10."
      ]
    },
    {
      "cell_type": "code",
      "execution_count": 12,
      "id": "431acb5d-fcd1-4ce4-9eee-6117b4066383",
      "metadata": {
        "colab": {
          "base_uri": "https://localhost:8080/"
        },
        "id": "431acb5d-fcd1-4ce4-9eee-6117b4066383",
        "outputId": "844fce3d-d600-4101-c39c-243162f6639a"
      },
      "outputs": [
        {
          "output_type": "execute_result",
          "data": {
            "text/plain": [
              "(1, 2, 3, 4, 5, 6, 7, 8, 9, 10)"
            ]
          },
          "metadata": {},
          "execution_count": 12
        }
      ],
      "source": [
        "# Solução\n",
        "def tabuada(numero):\n",
        "  return (numero*1, numero *2, numero*3, numero*4, numero *5, numero*6,numero*7, numero *8, numero*9,numero*10)\n",
        "\n",
        "\n",
        "tabuada(1)"
      ]
    },
    {
      "cell_type": "markdown",
      "id": "3375fbd5-8283-4602-9462-c0c7722e3258",
      "metadata": {
        "id": "3375fbd5-8283-4602-9462-c0c7722e3258"
      },
      "source": [
        "#### Exercício 3\n",
        "\n",
        "Você recebeu um dicionário com os nomes dos alunos e suas respectivas notas. Escreva uma função que calcula a média da turma e retorna uma lista com os nomes dos alunos que tiveram nota acima da média."
      ]
    },
    {
      "cell_type": "code",
      "execution_count": 16,
      "id": "de7f16bd-c754-456b-a726-28616af68aaa",
      "metadata": {
        "colab": {
          "base_uri": "https://localhost:8080/"
        },
        "id": "de7f16bd-c754-456b-a726-28616af68aaa",
        "outputId": "c9babe9b-d640-4292-bbc7-b0fcf1665b36"
      },
      "outputs": [
        {
          "output_type": "stream",
          "name": "stdout",
          "text": [
            "campos: 10\n",
            "souza: 10\n",
            "oliveira: 8\n",
            "avila: 6\n",
            "pereira: 3\n",
            "silva: 4\n",
            "Maior nota: campos com 10\n",
            "Maior nota: souza com 10\n",
            "avila está abaixo da média com nota 6\n",
            "pereira está abaixo da média com nota 3\n",
            "silva está abaixo da média com nota 4\n",
            "Média da turma: 6.83\n"
          ]
        }
      ],
      "source": [
        "# Solução\n",
        "notas_alunos = {\n",
        "    \"campos\":10,\n",
        "    \"souza\":10,\n",
        "    \"oliveira\":8,\n",
        "    \"avila\":6,\n",
        "    \"pereira\":3,\n",
        "    \"silva\":4\n",
        "}\n",
        "\n",
        "# Mostrar todos os alunos e suas notas\n",
        "for aluno, nota in notas_alunos.items():\n",
        "    print(f\"{aluno}: {nota}\")\n",
        "\n",
        "# Descobrir quem tirou a maior nota\n",
        "maior_nota = max(notas_alunos.values())\n",
        "for aluno, nota in notas_alunos.items():\n",
        "    if nota == maior_nota:\n",
        "        print(f\"Maior nota: {aluno} com {nota}\")\n",
        "\n",
        "# Filtrar alunos que ficaram abaixo da média (ex: nota < 7)\n",
        "for aluno, nota in notas_alunos.items():\n",
        "    if nota < 7:\n",
        "        print(f\"{aluno} está abaixo da média com nota {nota}\")\n",
        "\n",
        "\n",
        "# Calcular a média da turma\n",
        "media = sum(notas_alunos.values()) / len(notas_alunos)\n",
        "print(f\"Média da turma: {media:.2f}\")"
      ]
    },
    {
      "cell_type": "markdown",
      "id": "7a6f120d-ef3d-4431-a9a1-1f8a99bae626",
      "metadata": {
        "id": "7a6f120d-ef3d-4431-a9a1-1f8a99bae626"
      },
      "source": [
        "#### Exercício 4\n",
        "\n",
        "Dada uma lista de números, crie uma nova lista usando list comprehension que contenha o quadrado de cada número par da lista original."
      ]
    },
    {
      "cell_type": "code",
      "execution_count": 1,
      "id": "d40d066e-42b3-4659-a098-4bb73a3448a2",
      "metadata": {
        "colab": {
          "base_uri": "https://localhost:8080/"
        },
        "id": "d40d066e-42b3-4659-a098-4bb73a3448a2",
        "outputId": "a248744c-312c-4706-e317-6c8407692b3d"
      },
      "outputs": [
        {
          "output_type": "stream",
          "name": "stdout",
          "text": [
            "[16, 36, 64, 49, 81, 2025, 7225, 121, 1]\n"
          ]
        }
      ],
      "source": [
        "# Solução\n",
        "\n",
        "\n",
        "lista_numeros = [4,6,8,7,9,45,85,11,1]\n",
        "\n",
        "quadrados = [x**2 for x in lista_numeros]\n",
        "print(quadrados)\n",
        "\n"
      ]
    },
    {
      "cell_type": "markdown",
      "id": "a3182326-e5c7-4b8b-aeae-f30bbc3532b2",
      "metadata": {
        "id": "a3182326-e5c7-4b8b-aeae-f30bbc3532b2"
      },
      "source": [
        "#### Exercício 5\n",
        "\n",
        "Crie uma função chamada dsa_calcula_imc que aceite dois argumentos: peso (em kg) e altura (em metros). A função deve calcular o Índice de Massa Corporal (IMC) usando a fórmula IMC=peso/altura^2 e retornar o valor do IMC."
      ]
    },
    {
      "cell_type": "code",
      "execution_count": 3,
      "id": "40007f31-7641-4d98-9521-c23f0741c37f",
      "metadata": {
        "colab": {
          "base_uri": "https://localhost:8080/"
        },
        "id": "40007f31-7641-4d98-9521-c23f0741c37f",
        "outputId": "2036cc47-d3eb-474e-b898-763e560750d6"
      },
      "outputs": [
        {
          "output_type": "execute_result",
          "data": {
            "text/plain": [
              "22.857142857142858"
            ]
          },
          "metadata": {},
          "execution_count": 3
        }
      ],
      "source": [
        "# Solução\n",
        "def dsa_calcula_imc(arg1, arg2):\n",
        "  IMC = arg1/arg2**2\n",
        "  return IMC\n",
        "\n",
        "\n",
        "dsa_calcula_imc(70,1.75)\n"
      ]
    },
    {
      "cell_type": "markdown",
      "id": "b87006e7-5436-4dc0-acfc-fe6e83330191",
      "metadata": {
        "id": "b87006e7-5436-4dc0-acfc-fe6e83330191"
      },
      "source": [
        "#### Exercício 6\n",
        "\n",
        "Você tem uma lista de dicionários, onde cada dicionário representa uma pessoa com nome e idade. Use a função sorted() com uma expressão lambda como chave (key) para ordenar a lista de pessoas da mais nova para a mais velha."
      ]
    },
    {
      "cell_type": "code",
      "execution_count": 7,
      "id": "1f0c0503-1346-47f1-8cb9-ddbcd87641ea",
      "metadata": {
        "colab": {
          "base_uri": "https://localhost:8080/"
        },
        "id": "1f0c0503-1346-47f1-8cb9-ddbcd87641ea",
        "outputId": "b7393440-aadb-4274-be95-44b96f05f483"
      },
      "outputs": [
        {
          "output_type": "stream",
          "name": "stdout",
          "text": [
            "{'Campos': 35, 'Vila': 34, 'Soares': 38, 'Teans': 19, 'Old': 75}\n",
            "Usando função\n",
            "[('Teans', 19), ('Vila', 34), ('Campos', 35), ('Soares', 38), ('Old', 75)]\n"
          ]
        }
      ],
      "source": [
        "# Solução\n",
        "Nome_idade = {\n",
        "    \"Campos\":35,\n",
        "    \"Vila\":34,\n",
        "    \"Soares\":38,\n",
        "    \"Teans\":19,\n",
        "    \"Old\":75\n",
        "\n",
        "}\n",
        "\n",
        "print(Nome_idade)\n",
        "\n",
        "\n",
        "ordenar_crescente_idade = sorted(\n",
        "    Nome_idade.items(),\n",
        "    key=lambda item: item[1],\n",
        "    reverse=False\n",
        ")\n",
        "\n",
        "print('Usando função')\n",
        "print(ordenar_crescente_idade)\n"
      ]
    },
    {
      "cell_type": "markdown",
      "id": "268f4ea6-5329-457b-8b1f-8b3fc7956603",
      "metadata": {
        "id": "268f4ea6-5329-457b-8b1f-8b3fc7956603"
      },
      "source": [
        "#### Exercício 7\n",
        "\n",
        "Crie uma função que receba uma lista de números inteiros e retorne um dicionário contendo a contagem de quantos números são pares e quantos são ímpares."
      ]
    },
    {
      "cell_type": "code",
      "execution_count": 15,
      "id": "7366a477-10f5-46ec-ba8c-b0ab6067fed0",
      "metadata": {
        "colab": {
          "base_uri": "https://localhost:8080/"
        },
        "id": "7366a477-10f5-46ec-ba8c-b0ab6067fed0",
        "outputId": "8e43ed59-1eef-4338-9d9d-63a8aaf3b816"
      },
      "outputs": [
        {
          "output_type": "stream",
          "name": "stdout",
          "text": [
            "{'pares': 2, 'impares': 2}\n"
          ]
        }
      ],
      "source": [
        "# Solução\n",
        "\n",
        "def contagem_impares_pares(lista):\n",
        "  contagem = {\"pares\":0, \"impares\":0}\n",
        "\n",
        "  for numero in lista:\n",
        "    if numero % 2 == 0:\n",
        "      contagem[\"pares\"] +=1\n",
        "    else:\n",
        "      contagem[\"impares\"] +=1\n",
        "  return contagem\n",
        "\n",
        "\n",
        "numeros = [1,5,8,6]\n",
        "\n",
        "resultado = contagem_impares_pares(numeros)\n",
        "\n",
        "print(resultado)\n"
      ]
    },
    {
      "cell_type": "markdown",
      "id": "bc454f20-7ee6-4402-8319-5e4876e2d309",
      "metadata": {
        "id": "bc454f20-7ee6-4402-8319-5e4876e2d309"
      },
      "source": [
        "#### Exercício 8\n",
        "\n",
        "Crie uma função que receba uma lista de strings (potenciais e-mails) e um parâmetro opcional dominio_desejado (com valor padrão \"gmail.com\"). A função deve retornar uma nova lista, usando list comprehension, contendo apenas os e-mails que terminam com o domínio desejado."
      ]
    },
    {
      "cell_type": "code",
      "execution_count": null,
      "id": "11bdc9e8-75be-4448-932d-d876207fd1e4",
      "metadata": {
        "id": "11bdc9e8-75be-4448-932d-d876207fd1e4"
      },
      "outputs": [],
      "source": [
        "# Solução\n"
      ]
    },
    {
      "cell_type": "markdown",
      "id": "40f12391-14a5-4b6d-bcb7-419a373eb0e1",
      "metadata": {
        "id": "40f12391-14a5-4b6d-bcb7-419a373eb0e1"
      },
      "source": [
        "#### Exercício 9\n",
        "\n",
        "Dada uma lista de frases, use a função map() em conjunto com uma expressão lambda para criar uma nova lista onde cada frase é convertida para letras maiúsculas e tem a palavra \"PYTHON\" anexada ao final."
      ]
    },
    {
      "cell_type": "code",
      "execution_count": null,
      "id": "98f84688-9bfe-4de8-9f2b-97bf184dbd18",
      "metadata": {
        "id": "98f84688-9bfe-4de8-9f2b-97bf184dbd18"
      },
      "outputs": [],
      "source": [
        "# Solução\n"
      ]
    },
    {
      "cell_type": "markdown",
      "id": "9f07a658-4f72-4e97-a4e1-7c9f973ebca6",
      "metadata": {
        "id": "9f07a658-4f72-4e97-a4e1-7c9f973ebca6"
      },
      "source": [
        "#### Exercício 10\n",
        "\n",
        "Crie um jogo onde o computador escolhe um número secreto entre 1 e 20. O jogador tem 5 tentativas para adivinhar. A cada tentativa, o programa informa se o palpite foi muito alto ou muito baixo. Se o jogador acertar, o loop deve ser interrompido com uma mensagem de vitória."
      ]
    },
    {
      "cell_type": "code",
      "execution_count": null,
      "id": "aba19b38-a544-4a8d-a162-52a5efe04c9a",
      "metadata": {
        "id": "aba19b38-a544-4a8d-a162-52a5efe04c9a"
      },
      "outputs": [],
      "source": [
        "# Solução\n"
      ]
    },
    {
      "cell_type": "markdown",
      "id": "800eb189-a900-4307-a31c-910e5bb1e6c9",
      "metadata": {
        "id": "800eb189-a900-4307-a31c-910e5bb1e6c9"
      },
      "source": [
        "# Fim"
      ]
    }
  ],
  "metadata": {
    "kernelspec": {
      "display_name": "Python [conda env:base] *",
      "language": "python",
      "name": "conda-base-py"
    },
    "language_info": {
      "codemirror_mode": {
        "name": "ipython",
        "version": 3
      },
      "file_extension": ".py",
      "mimetype": "text/x-python",
      "name": "python",
      "nbconvert_exporter": "python",
      "pygments_lexer": "ipython3",
      "version": "3.13.5"
    },
    "colab": {
      "provenance": []
    }
  },
  "nbformat": 4,
  "nbformat_minor": 5
}