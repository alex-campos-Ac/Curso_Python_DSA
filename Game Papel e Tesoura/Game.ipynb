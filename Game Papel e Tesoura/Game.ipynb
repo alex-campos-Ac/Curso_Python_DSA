{
  "nbformat": 4,
  "nbformat_minor": 0,
  "metadata": {
    "colab": {
      "provenance": []
    },
    "kernelspec": {
      "name": "python3",
      "display_name": "Python 3"
    },
    "language_info": {
      "name": "python"
    }
  },
  "cells": [
    {
      "cell_type": "markdown",
      "source": [
        "// 1. Apresentação\n",
        "  \n",
        "  ESCREVA \"--- Jogo Pedra, Papel e Tesoura (2 Jogadores) ---\"\n",
        "  \n",
        "  ESCREVA \"Regras: Escolham entre 'pedra', 'papel' ou 'tesoura'.\"\n",
        "\n",
        "  // 2. Coleta de Dados\n",
        "  \n",
        "  LEIA a jogada do Jogador 1\n",
        "  \n",
        "  LEIA a jogada do Jogador 2\n",
        "\n",
        "  // 3. Tratamento dos Dados de Entrada\n",
        "  \n",
        "  CONVERTA a jogada do Jogador 1 para letras minúsculas e sem espaços\n",
        "  \n",
        "  CONVERTA a jogada do Jogador 2 para letras minúsculas e sem espaços\n",
        "\n",
        "  ESCREVA \"Jogador 1 escolheu:\", jogada_jogador1\n",
        "  \n",
        "  ESCREVA \"Jogador 2 escolheu:\", jogada_jogador2\n",
        "\n",
        "  // 4. Lógica para determinar o vencedor\n",
        "  \n",
        "  SE jogada_jogador1 == jogada_jogador2 ENTÃO\n",
        "    \n",
        "    ESCREVA \"Resultado: Empate!\"\n",
        "\n",
        "  \n",
        "  SENÃO SE (jogada_jogador1 == \"pedra\" E jogada_jogador2 == \"tesoura\") OU\n",
        "           (jogada_jogador1 == \"tesoura\" E jogada_jogador2 == \"papel\") OU\n",
        "           (jogada_jogador1 == \"papel\" E jogada_jogador2 == \"pedra\") ENTÃO\n",
        "    \n",
        "    ESCREVA \"Resultado: Jogador 1 venceu!\"\n",
        "\n",
        "  SENÃO\n",
        "    \n",
        "    ESCREVA \"Resultado: Jogador 2 venceu!\"\n",
        "\n",
        "  ESCREVA \"Fim de jogo!\"\n",
        "\n",
        "FIM"
      ],
      "metadata": {
        "id": "novWPM9TERqo"
      }
    },
    {
      "cell_type": "code",
      "source": [
        "\n",
        "# --- 1. Apresentação e Regras ---\n",
        "\n",
        "print(\"--- Jogo Pedra, Papel e Tesoura (2 Jogadores) ---\")\n",
        "print( \"Regras: Escolham entre 'pedra', 'papel' ou 'tesoura'.\")\n",
        "# Usamos uma tupla para armazenar as opções válidas.\n",
        "# Tuplas são boas aqui porque as opções do jogo não mudam (são imutáveis).\n",
        "\n",
        "opcoes_validas = (\"pedra\", \"papel\", \"tesoura\")\n",
        "print(f\"opções validas: {opcoes_validas}\")\n",
        "print(\"-\" *50)\n",
        "# --- 2. Coleta dos Dados de Entrada ---\n",
        "\n",
        "# Usamos a função input() para receber o que o usuário digita (Entrada Padrão).\n",
        "# A função input() sempre retorna uma string.\n",
        "\n",
        "Jogada_jogador1_inicial = input(\"jogador 1, digite sua jogada: \")\n",
        "Jogada_jogador2_inicial = input(\"jogador 2, digite sua jogada: \")\n",
        "\n",
        "\n",
        "# --- 3. Tratamento dos Dados de Entrada ---\n",
        "\n",
        "# Manipulação de Strings: usamos .lower() para converter para minúsculas\n",
        "# e .strip() para remover espaços extras. Isso evita erros como \"Pedra\" != \"pedra\".\n",
        "Jogada_jogador1 = Jogada_jogador1_inicial.lower().strip()\n",
        "Jogada_jogador2 = Jogada_jogador2_inicial.lower().strip()\n",
        "print(\"-\" * 50)\n",
        "#imprimir as jogadas.\n",
        "print(f\"Jogador 1 escolheu: {Jogada_jogador1}\")\n",
        "print(f\"Jogador 2 escolheu: {Jogada_jogador2}\")\n",
        "\n",
        "\n",
        "\n",
        "# Primeiro, verificamos se as jogadas são válidas.\n",
        "# Há várias opções para checar se a jogada está dentro da nossa tupla de opções.\n",
        "\n",
        "if Jogada_jogador1 not in opcoes_validas or Jogada_jogador2 not in opcoes_validas:\n",
        "\n",
        "  print(\"Uma das jogadas está fora das opções do jogo, favor escolhe entre: Pedra,Papel ou Tesoura\")\n",
        "# Agora, a lógica principal do jogo, usando operadores de comparação (==) e lógicos (and, or).\n",
        "\n",
        "# Caso 1: Empate\n",
        "elif Jogada_jogador1 == Jogada_jogador2:\n",
        "  print(\"Deu empate!\")\n",
        "\n",
        "# Caso 2: Jogador 1 vence\n",
        "# Agrupamos todas as condições de vitória do Jogador 1 com o operador 'or'.\n",
        "elif (Jogada_jogador1 == 'pedra' and Jogada_jogador2 == 'tesoura') or \\\n",
        "     (Jogada_jogador1 == 'tesoura' and Jogada_jogador2 == 'papel') or \\\n",
        "     (Jogada_jogador1 == 'papel' and Jogada_jogador2 == 'pedra'):\n",
        "    print(\"Jogador 1 venceu!\")\n",
        "# Caso 3: Se não empatou e o Jogador 1 não venceu, então o Jogador 2 venceu.\n",
        "else:\n",
        "    print(\"O jogador 2 venceu\")"
      ],
      "metadata": {
        "colab": {
          "base_uri": "https://localhost:8080/"
        },
        "id": "7k7ChcwfEWEC",
        "outputId": "678ec43b-835a-47f9-c38f-75bba07f574b"
      },
      "execution_count": null,
      "outputs": [
        {
          "output_type": "stream",
          "name": "stdout",
          "text": [
            "--- Jogo Pedra, Papel e Tesoura (2 Jogadores) ---\n",
            "Regras: Escolham entre 'pedra', 'papel' ou 'tesoura'.\n",
            "opções validas: ('pedra', 'papel', 'tesoura')\n",
            "--------------------------------------------------\n",
            "jogador 1, digite sua jogada: tesoura\n",
            "jogador 2, digite sua jogada: tesoura\n",
            "--------------------------------------------------\n",
            "Jogador 1 escolheu: tesoura\n",
            "Jogador 2 escolheu: tesoura\n",
            "Deu empate!\n"
          ]
        }
      ]
    }
  ]
}